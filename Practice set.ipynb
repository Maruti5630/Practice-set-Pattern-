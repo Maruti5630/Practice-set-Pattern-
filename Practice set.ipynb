{
 "cells": [
  {
   "cell_type": "code",
   "execution_count": 1,
   "id": "d9ede90e",
   "metadata": {},
   "outputs": [
    {
     "name": "stdout",
     "output_type": "stream",
     "text": [
      "5\n",
      "* * * * * \n",
      "* * * * * \n",
      "* * * * * \n",
      "* * * * * \n",
      "* * * * * \n"
     ]
    }
   ],
   "source": [
    "n=int(input())\n",
    "i=n\n",
    "while(i>0):\n",
    "    print('* '*n)\n",
    "    i-=1"
   ]
  },
  {
   "cell_type": "code",
   "execution_count": 2,
   "id": "81e52c0c",
   "metadata": {},
   "outputs": [
    {
     "name": "stdout",
     "output_type": "stream",
     "text": [
      "5\n",
      " * * * * * \n",
      "  * * * * \n",
      "   * * * \n",
      "    * * \n",
      "     * \n",
      "    * * \n",
      "   * * * \n",
      "  * * * * \n",
      " * * * * * \n"
     ]
    }
   ],
   "source": [
    "a=int(input())\n",
    "b=a\n",
    "i=0\n",
    "while(a>1):\n",
    "    print(' '*i,'* '*a)\n",
    "    i+=1\n",
    "    a-=1\n",
    "while(i>=0):\n",
    "    print(' '*i,'* '*a)\n",
    "    i-=1\n",
    "    a+=1\n",
    "    \n"
   ]
  },
  {
   "cell_type": "code",
   "execution_count": 3,
   "id": "7f245553",
   "metadata": {},
   "outputs": [
    {
     "name": "stdout",
     "output_type": "stream",
     "text": [
      "5\n",
      "* * * * * \n",
      " * * * * \n",
      "  * * * \n",
      "   * * \n",
      "    * \n",
      "    * \n",
      "   * * \n",
      "  * * * \n",
      " * * * * \n",
      "* * * * * \n"
     ]
    }
   ],
   "source": [
    "a=int(input())\n",
    "i=0\n",
    "while(a>=1):\n",
    "    print(' '*i+'* '*a)\n",
    "    i+=1\n",
    "    a-=1\n",
    "a=1\n",
    "while(i>0):\n",
    "    print(' '*(i-1)+'* '*a)\n",
    "    i-=1\n",
    "    a+=1\n",
    "    "
   ]
  },
  {
   "cell_type": "code",
   "execution_count": 4,
   "id": "19246af0",
   "metadata": {},
   "outputs": [
    {
     "name": "stdout",
     "output_type": "stream",
     "text": [
      "5\n",
      "* * * * * \n",
      "* * * * * \n",
      "* * * * * \n",
      "* * * * * \n",
      "* * * * * \n",
      "\n"
     ]
    }
   ],
   "source": [
    "n=int(input())\n",
    "print((('* '*n)+'\\n')*n)"
   ]
  },
  {
   "cell_type": "code",
   "execution_count": 5,
   "id": "81ae0dbe",
   "metadata": {},
   "outputs": [
    {
     "name": "stdout",
     "output_type": "stream",
     "text": [
      "15\n",
      "       *       \n",
      "      * *      \n",
      "     *   *     \n",
      "    *     *    \n",
      "   *       *   \n",
      "  *         *  \n",
      " *           * \n",
      "***************\n",
      "               \n",
      "               \n",
      "               \n",
      "               \n",
      "               \n",
      "               \n",
      "               \n"
     ]
    }
   ],
   "source": [
    "s=int(input())\n",
    "k=s//2\n",
    "for i in range(s):\n",
    "    for j in range(s):\n",
    "        if(i+j==s//2) :\n",
    "            print('*',end='')\n",
    "        elif((i==s//2)):\n",
    "            print('*',end='')\n",
    "        elif(k==j):\n",
    "            print('*',end='')\n",
    "        else:\n",
    "            print(' ',end='')\n",
    "    k+=1\n",
    "    print()\n",
    "        \n",
    "            "
   ]
  },
  {
   "cell_type": "code",
   "execution_count": 6,
   "id": "fec04e59",
   "metadata": {},
   "outputs": [
    {
     "name": "stdout",
     "output_type": "stream",
     "text": [
      "5\n",
      "1 2 3 4 5 \n",
      " 2 3 4 5 \n",
      "  3 4 5 \n",
      "   4 5 \n",
      "    5 \n",
      "   4 5 \n",
      "  3 4 5 \n",
      " 2 3 4 5 \n",
      "1 2 3 4 5 \n"
     ]
    }
   ],
   "source": [
    "n=int(input())\n",
    "for i in range(n):\n",
    "    print(' '*i,end='')\n",
    "    for j in range(i,n):\n",
    "        print(j+1,'',end='')\n",
    "    print()\n",
    "for i in range(n,1,-1):\n",
    "    print(' '*(i-2),end='')\n",
    "    for j in range(0,n-i+2):\n",
    "        print(i+j-1,'',end='')\n",
    "    print()\n",
    "        \n",
    "    "
   ]
  },
  {
   "cell_type": "code",
   "execution_count": 7,
   "id": "cec59b0e",
   "metadata": {},
   "outputs": [
    {
     "name": "stdout",
     "output_type": "stream",
     "text": [
      "enter characterf\n",
      "A B C D E F \n",
      "A B C D E \n",
      "A B C D \n",
      "A B C \n",
      "A B \n",
      "A \n",
      "A \n",
      "A B \n",
      "A B C \n",
      "A B C D \n",
      "A B C D E \n",
      "A B C D E F \n"
     ]
    }
   ],
   "source": [
    "n=input('enter character')\n",
    "a='ABCDEFGHIJKLMNOPQRSTUVWXYZ'\n",
    "n=n.upper()\n",
    "b=a.index(n)\n",
    "for i in range(b+1,0,-1):\n",
    "    for j in range(i):\n",
    "        print(a[j],end=' ')\n",
    "    print()\n",
    "for i in range(0,b+1):\n",
    "    for j in range(i+1):\n",
    "        print(a[j],end=' ')\n",
    "    print()\n",
    "    \n",
    "\n"
   ]
  },
  {
   "cell_type": "code",
   "execution_count": 8,
   "id": "6d799fcf",
   "metadata": {},
   "outputs": [
    {
     "name": "stdout",
     "output_type": "stream",
     "text": [
      "5\n",
      "    A       \n",
      "  B   B     \n",
      "C       C   \n",
      "  B   B   \n",
      "    A     \n"
     ]
    }
   ],
   "source": [
    "n=int(input())\n",
    "k=n//2\n",
    "for i in range((n//2)+1):\n",
    "    for j in range(n+1):\n",
    "        if(i+j==n//2 or j==k):\n",
    "            print(chr(65+i),end=' ')\n",
    "            a=i\n",
    "        else:\n",
    "            print(' ',end=' ')\n",
    "    k+=1\n",
    "    print()\n",
    "k=n//2\n",
    "b=a\n",
    "q=1\n",
    "for i in range(a):\n",
    "    if(n%2!=0):\n",
    "        for j in range(n):\n",
    "            if(i+1==j ):\n",
    "                print(chr(65+b-1),end=' ')\n",
    "                b-=1\n",
    "            elif(i+j==n-2):\n",
    "                print(chr(65+b),end=' ')\n",
    "            else:\n",
    "                print(' ',end=' ')\n",
    "    else:\n",
    "        for j in range(n):\n",
    "            if(i+1==j ):\n",
    "                print(chr(65+b-1),end=' ')\n",
    "                b-=1\n",
    "            elif(i+j==n-1):\n",
    "                print(chr(65+b),end=' ')\n",
    "            else:\n",
    "                print(' ',end=' ')\n",
    "    print()"
   ]
  },
  {
   "cell_type": "code",
   "execution_count": 9,
   "id": "900faecb",
   "metadata": {},
   "outputs": [
    {
     "name": "stdout",
     "output_type": "stream",
     "text": [
      "5\n",
      "* * * * * * * * * * \n",
      "* * * *     * * * * \n",
      "* * *         * * * \n",
      "* *             * * \n",
      "*                 * \n",
      "*                 * \n",
      "* *             * * \n",
      "* * *         * * * \n",
      "* * * *     * * * * \n",
      "* * * * * * * * * * \n"
     ]
    }
   ],
   "source": [
    "n=int(input())\n",
    "#upper half\n",
    "for i in range(n,0,-1):\n",
    "    print('* '*i,end='')\n",
    "    print('  '*(n-i)*2,end='')\n",
    "    print('* '*i)\n",
    "    \n",
    "#lower half\n",
    "for i in range(1,n+1):\n",
    "    print('* '*i,end='')\n",
    "    print('  '*(n-i)*2,end='')\n",
    "    print('* '*i)\n",
    "    \n"
   ]
  },
  {
   "cell_type": "code",
   "execution_count": 10,
   "id": "36d15f62",
   "metadata": {},
   "outputs": [
    {
     "name": "stdout",
     "output_type": "stream",
     "text": [
      "5\n",
      "* * * * * \n",
      "* * * * \n",
      "* * * \n",
      "* * \n",
      "* \n",
      "* \n",
      "* * \n",
      "* * * \n",
      "* * * * \n",
      "* * * * * \n"
     ]
    }
   ],
   "source": [
    "n=int(input())\n",
    "#upper half\n",
    "for i in range(n,0,-1):\n",
    "    print('* '*i)\n",
    "    \n",
    "#lower half\n",
    "for i in range(1,n+1):\n",
    "    print(\"* \"*i) "
   ]
  },
  {
   "cell_type": "code",
   "execution_count": 11,
   "id": "fb49dc8f",
   "metadata": {},
   "outputs": [
    {
     "name": "stdout",
     "output_type": "stream",
     "text": [
      "5\n",
      "*                 * \n",
      "* *             * * \n",
      "* * *         * * * \n",
      "* * * *     * * * * \n",
      "* * * * * * * * * * \n",
      "* * * * * * * * * * \n",
      "* * * *     * * * * \n",
      "* * *         * * * \n",
      "* *             * * \n",
      "*                 * \n"
     ]
    }
   ],
   "source": [
    "n=int(input())\n",
    "\n",
    "    \n",
    "#upper half\n",
    "for i in range(1,n+1):\n",
    "    print('* '*i,end='')\n",
    "    print('  '*(n-i)*2,end='')\n",
    "    print('* '*i)\n",
    "    \n",
    "#lower half\n",
    "for i in range(n,0,-1):\n",
    "    print('* '*i,end='')\n",
    "    print('  '*(n-i)*2,end='')\n",
    "    print('* '*i)"
   ]
  },
  {
   "cell_type": "code",
   "execution_count": 12,
   "id": "cb09b1cf",
   "metadata": {},
   "outputs": [
    {
     "name": "stdout",
     "output_type": "stream",
     "text": [
      "5\n",
      "    1\n",
      "   212\n",
      "  32123\n",
      " 4321234\n",
      "543212345\n",
      " 4321234\n",
      "  32123\n",
      "   212\n",
      "    1\n",
      "     \n"
     ]
    }
   ],
   "source": [
    "n=int(input())\n",
    "#upper half\n",
    "for i in range(n,0,-1):\n",
    "    print(' '*(i-1),end='')\n",
    "    for j in range(n-i+1,0,-1):\n",
    "        print(j,end='')\n",
    "    for k in range(1,n-i+1):\n",
    "        print(k+1,end='')\n",
    "    print()\n",
    "    \n",
    "#lower half\n",
    "for i in range(n):\n",
    "    print(' '*(i+1),end='')\n",
    "    for j in range(n-i-1,0,-1):\n",
    "        print(j,end='')\n",
    "    for k in range(1,n-i-1):\n",
    "        print(k+1,end='')\n",
    "    print()"
   ]
  },
  {
   "cell_type": "code",
   "execution_count": null,
   "id": "59e6cc0a",
   "metadata": {},
   "outputs": [],
   "source": []
  }
 ],
 "metadata": {
  "kernelspec": {
   "display_name": "Python 3",
   "language": "python",
   "name": "python3"
  },
  "language_info": {
   "codemirror_mode": {
    "name": "ipython",
    "version": 3
   },
   "file_extension": ".py",
   "mimetype": "text/x-python",
   "name": "python",
   "nbconvert_exporter": "python",
   "pygments_lexer": "ipython3",
   "version": "3.8.8"
  }
 },
 "nbformat": 4,
 "nbformat_minor": 5
}
